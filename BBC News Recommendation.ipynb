{
 "cells": [
  {
   "cell_type": "markdown",
   "id": "c04014f1-415d-418e-abb4-29ddf547fad4",
   "metadata": {},
   "source": [
    "## BBC News Recommendation System"
   ]
  },
  {
   "cell_type": "markdown",
   "id": "f322e52f-3ddd-4acb-937f-7196e1de7f08",
   "metadata": {},
   "source": [
    "#### Loading Dataset"
   ]
  },
  {
   "cell_type": "code",
   "execution_count": 34,
   "id": "5b36c899-6ebe-461d-a17c-8f15f610bada",
   "metadata": {},
   "outputs": [
    {
     "data": {
      "text/html": [
       "<div>\n",
       "<style scoped>\n",
       "    .dataframe tbody tr th:only-of-type {\n",
       "        vertical-align: middle;\n",
       "    }\n",
       "\n",
       "    .dataframe tbody tr th {\n",
       "        vertical-align: top;\n",
       "    }\n",
       "\n",
       "    .dataframe thead th {\n",
       "        text-align: right;\n",
       "    }\n",
       "</style>\n",
       "<table border=\"1\" class=\"dataframe\">\n",
       "  <thead>\n",
       "    <tr style=\"text-align: right;\">\n",
       "      <th></th>\n",
       "      <th>category</th>\n",
       "      <th>filename</th>\n",
       "      <th>title</th>\n",
       "      <th>content</th>\n",
       "    </tr>\n",
       "  </thead>\n",
       "  <tbody>\n",
       "    <tr>\n",
       "      <th>587</th>\n",
       "      <td>entertainment</td>\n",
       "      <td>078.txt</td>\n",
       "      <td>Baby becomes new Oscar favourite</td>\n",
       "      <td>Clint Eastwood's boxing drama Million Dollar ...</td>\n",
       "    </tr>\n",
       "    <tr>\n",
       "      <th>1412</th>\n",
       "      <td>sport</td>\n",
       "      <td>100.txt</td>\n",
       "      <td>Mido makes third apology</td>\n",
       "      <td>Ahmed 'Mido' Hossam has made another apology ...</td>\n",
       "    </tr>\n",
       "    <tr>\n",
       "      <th>748</th>\n",
       "      <td>entertainment</td>\n",
       "      <td>239.txt</td>\n",
       "      <td>Fightstar take to the stage</td>\n",
       "      <td>Charlie Simpson took his new band Fightstar t...</td>\n",
       "    </tr>\n",
       "    <tr>\n",
       "      <th>1706</th>\n",
       "      <td>sport</td>\n",
       "      <td>394.txt</td>\n",
       "      <td>Tindall wants second opinion</td>\n",
       "      <td>England centre Mike Tindall is to seek a seco...</td>\n",
       "    </tr>\n",
       "    <tr>\n",
       "      <th>758</th>\n",
       "      <td>entertainment</td>\n",
       "      <td>249.txt</td>\n",
       "      <td>Soul sensation ready for awards</td>\n",
       "      <td>South West teenage singing sensation, Joss St...</td>\n",
       "    </tr>\n",
       "  </tbody>\n",
       "</table>\n",
       "</div>"
      ],
      "text/plain": [
       "           category filename                             title  \\\n",
       "587   entertainment  078.txt  Baby becomes new Oscar favourite   \n",
       "1412          sport  100.txt          Mido makes third apology   \n",
       "748   entertainment  239.txt       Fightstar take to the stage   \n",
       "1706          sport  394.txt      Tindall wants second opinion   \n",
       "758   entertainment  249.txt   Soul sensation ready for awards   \n",
       "\n",
       "                                                content  \n",
       "587    Clint Eastwood's boxing drama Million Dollar ...  \n",
       "1412   Ahmed 'Mido' Hossam has made another apology ...  \n",
       "748    Charlie Simpson took his new band Fightstar t...  \n",
       "1706   England centre Mike Tindall is to seek a seco...  \n",
       "758    South West teenage singing sensation, Joss St...  "
      ]
     },
     "execution_count": 34,
     "metadata": {},
     "output_type": "execute_result"
    }
   ],
   "source": [
    "#randomly samples 500 rows from the DataFrame\n",
    "\n",
    "import numpy as np\n",
    "import pandas as pd\n",
    "\n",
    "\n",
    "df = pd.read_csv('bbc-news-data.csv', sep='\\t').sample(500, random_state = 115)\n",
    "\n",
    "df.head()"
   ]
  },
  {
   "cell_type": "code",
   "execution_count": 35,
   "id": "9ce31803-75de-4016-ace1-c4399ed84215",
   "metadata": {},
   "outputs": [
    {
     "data": {
      "text/plain": [
       "array(['entertainment', 'sport', 'politics', 'tech', 'business'],\n",
       "      dtype=object)"
      ]
     },
     "execution_count": 35,
     "metadata": {},
     "output_type": "execute_result"
    }
   ],
   "source": [
    "df['category'].unique()"
   ]
  },
  {
   "cell_type": "code",
   "execution_count": 36,
   "id": "70b316a8-d397-4a32-84eb-20ede6128865",
   "metadata": {},
   "outputs": [
    {
     "data": {
      "text/plain": [
       "category    0\n",
       "filename    0\n",
       "title       0\n",
       "content     0\n",
       "dtype: int64"
      ]
     },
     "execution_count": 36,
     "metadata": {},
     "output_type": "execute_result"
    }
   ],
   "source": [
    "#checking missing value\n",
    "\n",
    "df.isnull().sum()"
   ]
  },
  {
   "cell_type": "markdown",
   "id": "b8120efe-ea25-497c-8bc9-2a6cb7f39305",
   "metadata": {},
   "source": [
    "#### Preprocess and Testing"
   ]
  },
  {
   "cell_type": "code",
   "execution_count": 44,
   "id": "fc44f767-5f21-4303-901b-120925c15dc1",
   "metadata": {},
   "outputs": [
    {
     "name": "stdin",
     "output_type": "stream",
     "text": [
      "Enter a news topic or description:  economy related\n"
     ]
    },
    {
     "name": "stdout",
     "output_type": "stream",
     "text": [
      "\n",
      "Top 5 Recommended News:\n",
      "-> BBC poll indicates economic gloom (Category: business, Similarity: 0.13)\n",
      "    Citizens in a majority of nations surveyed in a BBC World Service poll believe the world economy is worsening.  Most respondents also said their national economy was getting worse. But when asked about their own family's financial outlook, a majority in 14 countries said they were positive about th...\n",
      "-> IMF 'cuts' German growth estimate (Category: business, Similarity: 0.12)\n",
      "    The International Monetary Fund is to cut its 2005 growth forecast for the German economy from 1.8% to 0.8%, the Financial Times Deutschland reported.  The IMF will also reduce its growth estimate for the 12-member eurozone economy from 2.2% to 1.6%, the newspaper reported. The German economy has b...\n",
      "-> UK 'risks breaking golden rule' (Category: business, Similarity: 0.11)\n",
      "    The UK government will have to raise taxes or rein in spending if it wants to avoid breaking its \"golden rule\", a report suggests.  The rule states that the government can borrow cash only to invest, and not to finance its spending projects. The National Institute of Economic and Social Research (N...\n",
      "-> China continues breakneck growth (Category: business, Similarity: 0.11)\n",
      "    China's economy has expanded by a breakneck 9.5% during 2004, faster than predicted and well above 2003's 9.1%.  The news may mean more limits on investment and lending as Beijing tries to take the economy off the boil. China has sucked in raw materials and energy to feed its expansion, which could...\n",
      "-> Building giant in asbestos payout (Category: business, Similarity: 0.1)\n",
      "    Australian building products group James Hardie has agreed to pay $1.1bn (£568m) to victims of asbestos-related diseases.  The landmark deal could see thousands of people suffering from lung diseases - caused by asbestos the company once made - receive compensation. The move follows angry protests ...\n",
      "\n",
      "Do you want to find more NEWS? (yes/no)\n"
     ]
    },
    {
     "name": "stdin",
     "output_type": "stream",
     "text": [
      " no\n"
     ]
    }
   ],
   "source": [
    "from sklearn.feature_extraction.text import TfidfVectorizer\n",
    "from sklearn.metrics.pairwise import cosine_similarity\n",
    "\n",
    "\n",
    "# Apply TF-IDF Vectorizer to the 'content' column\n",
    "tfidf = TfidfVectorizer(analyzer='word', ngram_range=(1, 3), min_df=2, stop_words='english')\n",
    "tfidf_matrix = tfidf.fit_transform(df['content'])\n",
    "\n",
    "# Function to get user input\n",
    "def get_user_input():\n",
    "    user_input = input(\"Enter a news topic or description: \")\n",
    "    tf_idf_input = tf.transform([user_input])\n",
    "    return tf_idf_input\n",
    "\n",
    "# Function to get top matching articles\n",
    "def get_news(tfidf_matrix, tf_idf_input):\n",
    "    cosine_similarities = cosine_similarity(tf_idf_input, tfidf_matrix)\n",
    "    top_n = 5\n",
    "\n",
    "    # Get top indices and corresponding similarity scores\n",
    "    top_indices = cosine_similarities.argsort()[0][-top_n:]\n",
    "    top_scores = cosine_similarities[0][top_indices]\n",
    "\n",
    "    results = [\n",
    "        (\n",
    "            df['title'].iloc[i],\n",
    "            df['category'].iloc[i],\n",
    "            df['content'].iloc[i],\n",
    "            score,\n",
    "        )\n",
    "        for i, score in zip(top_indices, top_scores)\n",
    "    ]\n",
    "    return results\n",
    "\n",
    "if __name__ == '__main__':\n",
    "    flag = True\n",
    "    while flag:\n",
    "        tf_idf_input = get_user_input()\n",
    "        result = get_news(tfidf_matrix, tf_idf_input)\n",
    "\n",
    "        print(\"\\nTop 5 Recommended News:\")\n",
    "        for title, category, description, score in result[::-1]:  # Reverse to show highest scores first\n",
    "            print(f\"-> {title} (Category: {category}, Similarity: {round(score, 2)})\\n   {description[:300]}...\")  # Limit description to 300 chars\n",
    "\n",
    "        print(\"\\nDo you want to find more NEWS? (yes/no)\")\n",
    "        user_choice = input().lower()\n",
    "        if user_choice != \"yes\":\n",
    "            flag = False\n"
   ]
  },
  {
   "cell_type": "markdown",
   "id": "01507fef-ae5f-414b-bfa8-43e3616dcdf2",
   "metadata": {},
   "source": [
    "### Usage examples:\n",
    "\n",
    "\n",
    "* Business:\n",
    "\n",
    "\n",
    "\"latest trends in the stock market\"\n",
    "\n",
    "\"global trade agreements and their effects\"\n",
    "\n",
    "\n",
    "* Politics:\n",
    "\n",
    "\"current political events in the UK\"\n",
    "\n",
    "\"the latest developments in international relations\"\n",
    "\n",
    "\n",
    "* Entertainment:\n",
    "\n",
    "\"upcoming award shows and nominations\"\n",
    "\n",
    "\"interviews with popular musicians\"\n",
    "\n",
    "\n",
    "\n",
    "* Tech\n",
    "\n",
    "\"cybersecurity threats and prevention\"\n",
    "\n",
    "\"the impact of technology on education\"\n",
    "\n",
    "\n",
    "* Sport:\n",
    "\n",
    "\"latest football scores and highlights\"\n",
    "\n",
    "\"news and analysis of the Premier League\""
   ]
  },
  {
   "cell_type": "markdown",
   "id": "f913f341-751a-4707-b162-5ff37491b61e",
   "metadata": {},
   "source": [
    "### This is the end, thank you."
   ]
  },
  {
   "cell_type": "code",
   "execution_count": null,
   "id": "1ca33b49-1ce1-4505-b694-881aae09d32a",
   "metadata": {},
   "outputs": [],
   "source": []
  }
 ],
 "metadata": {
  "kernelspec": {
   "display_name": "Python [conda env:base] *",
   "language": "python",
   "name": "conda-base-py"
  },
  "language_info": {
   "codemirror_mode": {
    "name": "ipython",
    "version": 3
   },
   "file_extension": ".py",
   "mimetype": "text/x-python",
   "name": "python",
   "nbconvert_exporter": "python",
   "pygments_lexer": "ipython3",
   "version": "3.12.7"
  }
 },
 "nbformat": 4,
 "nbformat_minor": 5
}
