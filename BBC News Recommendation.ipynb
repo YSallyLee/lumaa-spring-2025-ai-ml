{
 "cells": [
  {
   "cell_type": "markdown",
   "id": "c04014f1-415d-418e-abb4-29ddf547fad4",
   "metadata": {},
   "source": [
    "## BBC News Recommendation System"
   ]
  },
  {
   "cell_type": "code",
   "execution_count": 121,
   "id": "b1932e96-3bfe-494a-99d0-6adb9e02b123",
   "metadata": {},
   "outputs": [
    {
     "name": "stdout",
     "output_type": "stream",
     "text": [
      "Welcome to the BBC News Recommendation System!\n",
      "You can search for news articles based on your interests.\n"
     ]
    },
    {
     "name": "stdin",
     "output_type": "stream",
     "text": [
      "\n",
      "Enter a news topic or description (or type 'exit' to quit):  current political events in the UK\n"
     ]
    },
    {
     "name": "stdout",
     "output_type": "stream",
     "text": [
      "\n",
      "Top 5 Recommended News:\n",
      "\n",
      "-> online games play with politics\n",
      "Category: tech\n",
      "Similarity Score: 0.225\n",
      "Preview:  after bubbling under for some time, online games broke through onto the political arena in 2004.  the us presidential election provided a showcase for many, aimed at talking directly to a generation ...\n",
      "\n",
      "-> holmes starts 2005 with gb events\n",
      "Category: sport\n",
      "Similarity Score: 0.159\n",
      "Preview:  kelly holmes will start 2005 with a series of races in britain.  holmes will make her first track appearance on home soil since winning double olympic gold in january's norwich union international in...\n",
      "\n",
      "-> 'debate needed' on donations cap\n",
      "Category: politics\n",
      "Similarity Score: 0.108\n",
      "Preview:  a cap on donations to political parties should not be introduced yet, the elections watchdog has said.  fears that big donors can buy political favours have sparked calls for a limit. in a new report...\n",
      "\n",
      "-> uk firms 'embracing e-commerce'\n",
      "Category: politics\n",
      "Similarity Score: 0.097\n",
      "Preview:  uk firms are embracing internet trading opportunities as never before, e-commerce minister mike o'brien says.  a government-commissioned study ranked the uk third in its world index of use of informa...\n",
      "\n",
      "-> navratilova hits out at critics\n",
      "Category: sport\n",
      "Similarity Score: 0.094\n",
      "Preview:  martina navratilova has defended her decision to prolong her tennis career at the age of 48.  navratilova, who made a comeback after retiring in 1994, will play doubles and mixed doubles events in 20...\n"
     ]
    },
    {
     "name": "stdin",
     "output_type": "stream",
     "text": [
      "\n",
      "Enter a news topic or description (or type 'exit' to quit):  exit\n"
     ]
    },
    {
     "name": "stdout",
     "output_type": "stream",
     "text": [
      "Thank you for using the BBC News Recommendation System. Goodbye!\n"
     ]
    }
   ],
   "source": [
    "import pandas as pd\n",
    "from sklearn.feature_extraction.text import TfidfVectorizer\n",
    "from sklearn.metrics.pairwise import cosine_similarity\n",
    "\n",
    "def recommend_news(user_query, df, top_n=5):\n",
    "    \"\"\"\n",
    "    Recommend news based on user input.\n",
    "    \"\"\"\n",
    "    # Combine titles and content for TF-IDF vectorization\n",
    "    # Give more weight to the title by repeating it\n",
    "    df['combined'] = df['title'] + \" \" + df['title'] + \" \" + df['content']\n",
    "    \n",
    "    # Initialize and configure the TF-IDF vectorizer\n",
    "    tfidf = TfidfVectorizer(\n",
    "        analyzer='word',\n",
    "        ngram_range=(1, 3),\n",
    "        min_df=2,\n",
    "        max_df=0.85,  \n",
    "        stop_words='english'\n",
    "    )\n",
    "    \n",
    "    # Fit and transform the combined text\n",
    "    tfidf_matrix = tfidf.fit_transform(df['combined'])\n",
    "    \n",
    "    # Transform the user query\n",
    "    user_vec = tfidf.transform([user_query])\n",
    "    \n",
    "    # Calculate cosine similarities\n",
    "    similarities = cosine_similarity(user_vec, tfidf_matrix).flatten()\n",
    "    \n",
    "    # Get the indices of top N recommendations\n",
    "    top_indices = similarities.argsort()[-top_n:][::-1]\n",
    "    \n",
    "    # Prepare the results\n",
    "    results = [\n",
    "        (\n",
    "            df.iloc[idx]['title'],\n",
    "            df.iloc[idx]['category'],\n",
    "            similarities[idx],\n",
    "            df.iloc[idx]['content']\n",
    "        )\n",
    "        for idx in top_indices\n",
    "    ]\n",
    "    return results\n",
    "\n",
    "def user_interactive_demo():\n",
    "    \"\"\"\n",
    "    Interactive demo for the BBC News Recommendation System.\n",
    "    \"\"\"\n",
    "    # Load the dataset\n",
    "    df = pd.read_csv('bbc-news-data.csv', sep='\\t').sample(500, random_state=115)\n",
    "    \n",
    "    # Preprocess the text data\n",
    "    df['title'] = df['title'].str.lower()\n",
    "    df['content'] = df['content'].str.lower()\n",
    "    \n",
    "    print(\"Welcome to the BBC News Recommendation System!\")\n",
    "    print(\"You can search for news articles based on your interests.\")\n",
    "    \n",
    "    while True:\n",
    "        user_query = input(\"\\nEnter a news topic or description (or type 'exit' to quit): \").lower()\n",
    "        if user_query.lower() == 'exit':\n",
    "            print(\"Thank you for using the BBC News Recommendation System. Goodbye!\")\n",
    "            break\n",
    "        \n",
    "        recommendations = recommend_news(user_query, df)\n",
    "        \n",
    "        print(\"\\nTop 5 Recommended News:\")\n",
    "        for title, category, similarity, content in recommendations:\n",
    "            print(f\"\\n-> {title}\")\n",
    "            print(f\"Category: {category}\")\n",
    "            print(f\"Similarity Score: {similarity:.3f}\")\n",
    "            print(f\"Preview: {content[:200]}...\")\n",
    "\n",
    "# Run the interactive demo\n",
    "if __name__ == \"__main__\":\n",
    "    user_interactive_demo()\n",
    "\n",
    "\n",
    "#current political events in the UK\n",
    "#drugs or alcohol problems"
   ]
  },
  {
   "cell_type": "code",
   "execution_count": null,
   "id": "26f63f70-bf15-4448-998e-1660ff9f6c0e",
   "metadata": {},
   "outputs": [],
   "source": []
  }
 ],
 "metadata": {
  "kernelspec": {
   "display_name": "Python [conda env:base] *",
   "language": "python",
   "name": "conda-base-py"
  },
  "language_info": {
   "codemirror_mode": {
    "name": "ipython",
    "version": 3
   },
   "file_extension": ".py",
   "mimetype": "text/x-python",
   "name": "python",
   "nbconvert_exporter": "python",
   "pygments_lexer": "ipython3",
   "version": "3.12.7"
  }
 },
 "nbformat": 4,
 "nbformat_minor": 5
}
